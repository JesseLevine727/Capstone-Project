{
 "cells": [
  {
   "cell_type": "code",
   "execution_count": 1,
   "metadata": {},
   "outputs": [
    {
     "data": {
      "text/plain": [
       "True"
      ]
     },
     "execution_count": 1,
     "metadata": {},
     "output_type": "execute_result"
    }
   ],
   "source": [
    "import tkinter as tk\n",
    "from tkinter import filedialog, messagebox, scrolledtext\n",
    "import os\n",
    "\n",
    "# Function to handle chatbot summarization\n",
    "from langchain_community.document_loaders import JSONLoader\n",
    "from langchain_openai import ChatOpenAI\n",
    "from langchain_text_splitters import RecursiveCharacterTextSplitter\n",
    "from langchain_core.vectorstores import InMemoryVectorStore\n",
    "from langchain_core.prompts import ChatPromptTemplate, MessagesPlaceholder\n",
    "from langchain_community.chat_message_histories import ChatMessageHistory\n",
    "from langchain_core.runnables.history import RunnableWithMessageHistory\n",
    "from langchain_openai import OpenAIEmbeddings\n",
    "from langchain.chains import create_history_aware_retriever, create_retrieval_chain\n",
    "from langchain.chains.combine_documents import create_stuff_documents_chain\n",
    "from dotenv import load_dotenv\n",
    "load_dotenv()"
   ]
  },
  {
   "cell_type": "code",
   "execution_count": 2,
   "metadata": {},
   "outputs": [],
   "source": [
    "def get_session_history(session_id: str):\n",
    "    if session_id not in store:\n",
    "        store[session_id] = ChatMessageHistory()\n",
    "    return store[session_id]\n",
    "store = {}"
   ]
  },
  {
   "cell_type": "code",
   "execution_count": 3,
   "metadata": {},
   "outputs": [],
   "source": [
    "def parentChatbotSummarize(filepath: str, session_id: str, promptQuestion: str):\n",
    "    try:\n",
    "        llm = ChatOpenAI(model='gpt-4o')\n",
    "\n",
    "        loader = JSONLoader(file_path=filepath, jq_schema='.', text_content=False)\n",
    "        docs = loader.load()\n",
    "        text_splitter = RecursiveCharacterTextSplitter(chunk_size=1000, chunk_overlap=200, add_start_index=True)\n",
    "        splits = text_splitter.split_documents(docs)\n",
    "        vectorstore = InMemoryVectorStore.from_documents(documents=splits, embedding=OpenAIEmbeddings())\n",
    "        retriever = vectorstore.as_retriever(search_type='similarity')\n",
    "\n",
    "        contextualize_q_system_prompt = (\n",
    "            \"Given a chat history and the latest user question \"\n",
    "            \"which might reference context in the chat history, \"\n",
    "            \"formulate a standalone question which can be understood \"\n",
    "            \"without the chat history. Do NOT answer the question, \"\n",
    "            \"just reformulate it if needed and otherwise return it as is.\"\n",
    "        )\n",
    "\n",
    "        contextualize_q_prompt = ChatPromptTemplate.from_messages(\n",
    "            [\n",
    "                (\"system\", contextualize_q_system_prompt),\n",
    "                MessagesPlaceholder(\"chat_history\"),\n",
    "                (\"human\", \"{input}\"),\n",
    "            ]\n",
    "        )\n",
    "\n",
    "        history_aware_retriever = create_history_aware_retriever(llm, retriever, contextualize_q_prompt)\n",
    "        system_prompt = (\n",
    "            \"You are a nurse updating a parent on the status of their child in the NICU.\"\n",
    "            \"Use the following retrieved context to provide relevant information to the parent. \"\n",
    "            \"Speak in a conversational tone, and keep the summary concise.\"\n",
    "            \"Do not diagnose.\"\n",
    "            \"\\n\\n{context}\"\n",
    "        )\n",
    "\n",
    "        qa_prompt = ChatPromptTemplate.from_messages(\n",
    "            [\n",
    "                (\"system\", system_prompt),\n",
    "                MessagesPlaceholder(\"chat_history\"),\n",
    "                (\"human\", \"{input}\"),\n",
    "            ]\n",
    "        )\n",
    "        question_answer_chain = create_stuff_documents_chain(llm, qa_prompt)\n",
    "        rag_chain = create_retrieval_chain(history_aware_retriever, question_answer_chain)\n",
    "\n",
    "        conversational_rag_chain = RunnableWithMessageHistory(\n",
    "            rag_chain,\n",
    "            get_session_history,\n",
    "            input_messages_key=\"input\",\n",
    "            history_messages_key=\"chat_history\",\n",
    "            output_messages_key=\"answer\",\n",
    "        )\n",
    "        response = conversational_rag_chain.invoke(\n",
    "            {\"input\": promptQuestion},\n",
    "            config={\n",
    "                \"configurable\": {\"session_id\": session_id}\n",
    "            },  # constructs a key \"abc123\" in `store`.\n",
    "            \n",
    "        )\n",
    "\n",
    "        return response['answer']\n",
    "    except Exception as e:\n",
    "        return f\"Error: {str(e)}\""
   ]
  },
  {
   "cell_type": "code",
   "execution_count": 4,
   "metadata": {},
   "outputs": [],
   "source": [
    "# Function triggered by GUI button\n",
    "def run_chatbot():\n",
    "    filepath = file_entry.get()\n",
    "    session_id = session_entry.get()\n",
    "    prompt = prompt_entry.get()\n",
    "\n",
    "    if not os.path.exists(filepath):\n",
    "        messagebox.showerror(\"Error\", \"The selected file does not exist.\")\n",
    "        return\n",
    "\n",
    "    if not session_id:\n",
    "        messagebox.showerror(\"Error\", \"Please enter a valid session ID.\")\n",
    "        return\n",
    "\n",
    "    if not prompt:\n",
    "        messagebox.showerror(\"Error\", \"Please enter a prompt.\")\n",
    "        return\n",
    "\n",
    "    result = parentChatbotSummarize(filepath, session_id, prompt)\n",
    "    chat_history_text.configure(state='normal')\n",
    "    chat_history_text.insert(tk.END, f\"You: {prompt}\\n\")\n",
    "    chat_history_text.insert(tk.END, f\"Bot: {result}\\n\\n\")\n",
    "    chat_history_text.configure(state='disabled')\n",
    "    prompt_entry.delete(0, tk.END)"
   ]
  },
  {
   "cell_type": "code",
   "execution_count": 5,
   "metadata": {},
   "outputs": [],
   "source": [
    "# GUI Setup using Tkinter\n",
    "root = tk.Tk()\n",
    "root.title(\"Chatbot GUI for JSON Summarization\")\n",
    "root.geometry(\"600x500\")\n",
    "\n",
    "# Filepath Entry\n",
    "file_label = tk.Label(root, text=\"Select JSON File:\")\n",
    "file_label.pack(pady=5)\n",
    "file_entry = tk.Entry(root, width=50)\n",
    "file_entry.pack(pady=5)\n",
    "file_button = tk.Button(root, text=\"Browse\", command=lambda: file_entry.insert(0, filedialog.askopenfilename(filetypes=[(\"JSON Files\", \"*.json\")])))\n",
    "file_button.pack(pady=5)\n",
    "\n",
    "# Session ID Entry\n",
    "session_label = tk.Label(root, text=\"Enter Session ID:\")\n",
    "session_label.pack(pady=5)\n",
    "session_entry = tk.Entry(root, width=50)\n",
    "session_entry.pack(pady=5)\n",
    "\n",
    "# Prompt Entry\n",
    "prompt_label = tk.Label(root, text=\"Enter Prompt:\")\n",
    "prompt_label.pack(pady=5)\n",
    "prompt_entry = tk.Entry(root, width=50)\n",
    "prompt_entry.pack(pady=5)\n",
    "\n",
    "# Chat History Display\n",
    "chat_history_text = scrolledtext.ScrolledText(root, width=70, height=15, state='disabled', wrap='word')\n",
    "chat_history_text.pack(pady=10)\n",
    "\n",
    "# Run Button\n",
    "run_button = tk.Button(root, text=\"Run Chatbot\", command=run_chatbot)\n",
    "run_button.pack(pady=20)"
   ]
  },
  {
   "cell_type": "code",
   "execution_count": 6,
   "metadata": {},
   "outputs": [],
   "source": [
    "# Mainloop to run the GUI\n",
    "root.mainloop()"
   ]
  }
 ],
 "metadata": {
  "kernelspec": {
   "display_name": "Python 3",
   "language": "python",
   "name": "python3"
  },
  "language_info": {
   "codemirror_mode": {
    "name": "ipython",
    "version": 3
   },
   "file_extension": ".py",
   "mimetype": "text/x-python",
   "name": "python",
   "nbconvert_exporter": "python",
   "pygments_lexer": "ipython3",
   "version": "3.12.1"
  }
 },
 "nbformat": 4,
 "nbformat_minor": 2
}
