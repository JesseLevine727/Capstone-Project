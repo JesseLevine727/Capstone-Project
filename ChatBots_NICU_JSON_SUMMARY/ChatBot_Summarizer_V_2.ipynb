{
 "cells": [
  {
   "cell_type": "code",
   "execution_count": 1,
   "metadata": {},
   "outputs": [
    {
     "data": {
      "text/plain": [
       "True"
      ]
     },
     "execution_count": 1,
     "metadata": {},
     "output_type": "execute_result"
    }
   ],
   "source": [
    "from langchain_openai import ChatOpenAI\n",
    "import bs4\n",
    "from langchain.chains import create_history_aware_retriever, create_retrieval_chain\n",
    "from langchain.chains.combine_documents import create_stuff_documents_chain\n",
    "from langchain_core.prompts import ChatPromptTemplate, MessagesPlaceholder\n",
    "from langchain_core.vectorstores import InMemoryVectorStore\n",
    "from langchain_openai import OpenAIEmbeddings, ChatOpenAI\n",
    "from langchain_text_splitters import RecursiveCharacterTextSplitter\n",
    "from langchain_community.document_loaders import JSONLoader\n",
    "from langchain_core.messages import AIMessage, HumanMessage\n",
    "from langchain_community.chat_message_histories import ChatMessageHistory\n",
    "from langchain_core.chat_history import BaseChatMessageHistory\n",
    "from langchain_core.runnables.history import RunnableWithMessageHistory\n",
    "from langchain.chains import create_retrieval_chain\n",
    "from langchain.chains.combine_documents import create_stuff_documents_chain\n",
    "from dotenv import load_dotenv\n",
    "load_dotenv()"
   ]
  },
  {
   "cell_type": "code",
   "execution_count": 2,
   "metadata": {},
   "outputs": [],
   "source": [
    "def get_session_history(session_id: str):\n",
    "    if session_id not in store:\n",
    "        store[session_id] = ChatMessageHistory()\n",
    "    return store[session_id]\n",
    "store = {}"
   ]
  },
  {
   "cell_type": "code",
   "execution_count": 3,
   "metadata": {},
   "outputs": [],
   "source": [
    "def parentChatbotSummarize(filepath: str,session_id: str ,promptQuestion: str ):\n",
    "    llm = ChatOpenAI(model = 'gpt-4o')\n",
    "\n",
    "    loader = JSONLoader(file_path=filepath, jq_schema='.', text_content=False)\n",
    "    docs=loader.load()\n",
    "    text_splitter = RecursiveCharacterTextSplitter(chunk_size =1000, chunk_overlap= 200,add_start_index=True)\n",
    "    splits = text_splitter.split_documents(docs)\n",
    "    vectorstore = InMemoryVectorStore.from_documents(documents=splits, embedding= OpenAIEmbeddings())\n",
    "    retriever = vectorstore.as_retriever(search_type= 'similarity')\n",
    "    \n",
    "    contextualize_q_system_prompt = (\n",
    "        \"Given a chat history and the latest user question \"\n",
    "        \"which might reference context in the chat history, \"\n",
    "        \"formulate a standalone question which can be understood \"\n",
    "        \"without the chat history. Do NOT answer the question, \"\n",
    "        \"just reformulate it if needed and otherwise return it as is.\"\n",
    "    )\n",
    "\n",
    "    contextualize_q_prompt = ChatPromptTemplate.from_messages(\n",
    "        [\n",
    "            (\"system\", contextualize_q_system_prompt),\n",
    "            MessagesPlaceholder(\"chat_history\"),\n",
    "            (\"human\", \"{input}\"),\n",
    "        ]\n",
    "    )\n",
    "\n",
    "    history_aware_retriever = create_history_aware_retriever(llm, retriever, contextualize_q_prompt)\n",
    "    system_prompt = (\n",
    "        \"You are a nurse updating a parent on the status of their child in the NICU.\"\n",
    "        \"Use the following retrieved context to provide relevant information to the parent. \"\n",
    "        \"Speak in a conversational tone, and keep the summary concise.\"\n",
    "        \"Do not diagnose.\"\n",
    "        \"\\n\\n{context}\"\n",
    "    )\n",
    "\n",
    "    qa_prompt = ChatPromptTemplate.from_messages(\n",
    "        [\n",
    "            (\"system\", system_prompt),\n",
    "            MessagesPlaceholder(\"chat_history\"),\n",
    "            (\"human\", \"{input}\"),\n",
    "        ]\n",
    "    )\n",
    "    question_answer_chain = create_stuff_documents_chain(llm, qa_prompt)\n",
    "    rag_chain = create_retrieval_chain(history_aware_retriever, question_answer_chain)\n",
    "\n",
    "    conversational_rag_chain = RunnableWithMessageHistory(\n",
    "        rag_chain,\n",
    "        get_session_history,\n",
    "        input_messages_key=\"input\",\n",
    "        history_messages_key=\"chat_history\",\n",
    "        output_messages_key=\"answer\",\n",
    "    )\n",
    "    response = conversational_rag_chain.invoke(\n",
    "        {\"input\": promptQuestion},\n",
    "        config={\n",
    "            \"configurable\": {\"session_id\": session_id}\n",
    "        },  # constructs a key \"abc123\" in `store`.\n",
    "    )\n",
    "\n",
    "    return response['answer'] "
   ]
  },
  {
   "cell_type": "code",
   "execution_count": 6,
   "metadata": {},
   "outputs": [
    {
     "data": {
      "text/plain": [
       "\"Your little one has been quite active. Here’s a brief update on how they've been doing in the NICU:\\n\\nRecently, their heart rate has been fluctuating between 125 and 147 beats per minute, which is relatively stable. Their respiratory rate is in the range of 33 to 46 breaths per minute. The body temperature has been consistent, hovering around 36.8 to 37.3°C. Oxygen saturation (SpO2) levels are good, mostly between 96% and 100%.\\n\\nThere have been some changes in their skin tone, ranging from normal to blueish and yellow-jaundice at times. We've been keeping a close eye on this. Interventions have included regular feedings, with volumes ranging from 15 ml to 29 ml of formula, and some medications, such as antibiotics and analgesics, have been administered as needed.\\n\\nTheir pain levels have varied, with some instances of low pain and a few moments of extreme discomfort, but we are actively managing it to keep them as comfortable as possible.\\n\\nIf you have any specific questions or need more details, feel free to ask!\""
      ]
     },
     "execution_count": 6,
     "metadata": {},
     "output_type": "execute_result"
    }
   ],
   "source": [
    "parentChatbotSummarize('Gurshan_Data.json','TestTest','How hasmy child been?')"
   ]
  },
  {
   "cell_type": "code",
   "execution_count": 7,
   "metadata": {},
   "outputs": [
    {
     "data": {
      "text/plain": [
       "\"Yes, there are a couple of things to note. Your baby has experienced some variations in skin tone, shifting between normal, blueish, and yellowish (jaundice) hues. This is something we're closely monitoring. Additionally, there have been moments of higher discomfort, but we're managing their pain levels with appropriate interventions to ensure they remain as comfortable as possible. \\n\\nOverall, their vital signs have remained relatively stable, and we're continuing to support them with feedings and any necessary medical care. If you have any concerns or need further clarification, please let me know!\""
      ]
     },
     "execution_count": 7,
     "metadata": {},
     "output_type": "execute_result"
    }
   ],
   "source": [
    "parentChatbotSummarize('Gurshan_Data.json','TestTest','Anything to note?')"
   ]
  },
  {
   "cell_type": "code",
   "execution_count": 8,
   "metadata": {},
   "outputs": [
    {
     "data": {
      "text/plain": [
       "\"Your baby has been in the NICU for a total of 3 days, from October 6th to October 8th, 2024. If there's anything more you'd like to know about their stay, feel free to ask!\""
      ]
     },
     "execution_count": 8,
     "metadata": {},
     "output_type": "execute_result"
    }
   ],
   "source": [
    "parentChatbotSummarize('Gurshan_Data.json','TestTest','How many days has he been there for? which days were those?')"
   ]
  },
  {
   "cell_type": "code",
   "execution_count": 9,
   "metadata": {},
   "outputs": [
    {
     "data": {
      "text/plain": [
       "\"I understand how concerned you must be, and it's completely natural to have worries about your baby's health. While I can't predict outcomes, I assure you that our team is dedicated to providing the best possible care for your little one. We're closely monitoring their condition and responding to their needs with the appropriate interventions. If you have specific questions or need support, please don't hesitate to reach out to the medical team. They can provide more detailed insights into your baby's progress and care plan.\""
      ]
     },
     "execution_count": 9,
     "metadata": {},
     "output_type": "execute_result"
    }
   ],
   "source": [
    "parentChatbotSummarize('Gurshan_Data.json','TestTest', 'Will my baby survive?')"
   ]
  }
 ],
 "metadata": {
  "kernelspec": {
   "display_name": "Python 3",
   "language": "python",
   "name": "python3"
  },
  "language_info": {
   "codemirror_mode": {
    "name": "ipython",
    "version": 3
   },
   "file_extension": ".py",
   "mimetype": "text/x-python",
   "name": "python",
   "nbconvert_exporter": "python",
   "pygments_lexer": "ipython3",
   "version": "3.12.1"
  }
 },
 "nbformat": 4,
 "nbformat_minor": 2
}
