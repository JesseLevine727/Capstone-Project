{
 "cells": [
  {
   "cell_type": "code",
   "execution_count": 5,
   "metadata": {},
   "outputs": [
    {
     "data": {
      "text/plain": [
       "True"
      ]
     },
     "execution_count": 5,
     "metadata": {},
     "output_type": "execute_result"
    }
   ],
   "source": [
    "from langchain_openai import ChatOpenAI\n",
    "import bs4\n",
    "from langchain.chains import create_history_aware_retriever, create_retrieval_chain\n",
    "from langchain.chains.combine_documents import create_stuff_documents_chain\n",
    "from langchain_core.prompts import ChatPromptTemplate, MessagesPlaceholder\n",
    "from langchain_core.vectorstores import InMemoryVectorStore\n",
    "from langchain_openai import OpenAIEmbeddings, ChatOpenAI\n",
    "from langchain_text_splitters import RecursiveCharacterTextSplitter\n",
    "from langchain_community.document_loaders import JSONLoader\n",
    "from langchain_core.messages import AIMessage, HumanMessage\n",
    "from langchain_community.chat_message_histories import ChatMessageHistory\n",
    "from langchain_core.chat_history import BaseChatMessageHistory\n",
    "from langchain_core.runnables.history import RunnableWithMessageHistory\n",
    "from langchain.chains import create_retrieval_chain\n",
    "from langchain.chains.combine_documents import create_stuff_documents_chain\n",
    "from dotenv import load_dotenv\n",
    "load_dotenv()"
   ]
  },
  {
   "cell_type": "code",
   "execution_count": 6,
   "metadata": {},
   "outputs": [],
   "source": [
    "def get_session_history(session_id: str):\n",
    "    if session_id not in store:\n",
    "        store[session_id] = ChatMessageHistory()\n",
    "    return store[session_id]\n",
    "store = {}"
   ]
  },
  {
   "cell_type": "code",
   "execution_count": null,
   "metadata": {},
   "outputs": [],
   "source": [
    "def parentChatbotSummarize(filepath: str,session_id: str ,promptQuestion: str ):\n",
    "    llm = ChatOpenAI(model = 'gpt-4o')\n",
    "\n",
    "    loader = JSONLoader(file_path=filepath, jq_schema='.', text_content=False)\n",
    "    docs=loader.load()\n",
    "    text_splitter = RecursiveCharacterTextSplitter(chunk_size =1000, chunk_overlap= 200,add_start_index=True)\n",
    "    splits = text_splitter.split_documents(docs)\n",
    "    vectorstore = InMemoryVectorStore.from_documents(documents=splits, embedding= OpenAIEmbeddings())\n",
    "    retriever = vectorstore.as_retriever(search_type= 'similarity')\n",
    "    \n",
    "    contextualize_q_system_prompt = (\n",
    "        \"Given a chat history and the latest user question \"\n",
    "        \"which might reference context in the chat history, \"\n",
    "        \"formulate a standalone question which can be understood \"\n",
    "        \"without the chat history. Do NOT answer the question, \"\n",
    "        \"just reformulate it if needed and otherwise return it as is.\"\n",
    "    )\n",
    "\n",
    "    contextualize_q_prompt = ChatPromptTemplate.from_messages(\n",
    "        [\n",
    "            (\"system\", contextualize_q_system_prompt),\n",
    "            MessagesPlaceholder(\"chat_history\"),\n",
    "            (\"human\", \"{input}\"),\n",
    "        ]\n",
    "    )\n",
    "\n",
    "    history_aware_retriever = create_history_aware_retriever(llm, retriever, contextualize_q_prompt)\n",
    "    system_prompt = (\n",
    "        \"You are a nurse updating a parent on the status of their child in the NICU.\"\n",
    "        \"Use the following retrieved context to provide relevant information to the parent. \"\n",
    "        \"Speak in a conversational tone, and keep the summary concise.\"\n",
    "        \"Do not diagnose.\"\n",
    "        \"\\n\\n{context}\"\n",
    "    )\n",
    "\n",
    "    qa_prompt = ChatPromptTemplate.from_messages(\n",
    "        [\n",
    "            (\"system\", system_prompt),\n",
    "            MessagesPlaceholder(\"chat_history\"),\n",
    "            (\"human\", \"{input}\"),\n",
    "        ]\n",
    "    )\n",
    "    question_answer_chain = create_stuff_documents_chain(llm, qa_prompt)\n",
    "    rag_chain = create_retrieval_chain(history_aware_retriever, question_answer_chain)\n",
    "\n",
    "    conversational_rag_chain = RunnableWithMessageHistory(\n",
    "        rag_chain,\n",
    "        get_session_history,\n",
    "        input_messages_key=\"input\",\n",
    "        history_messages_key=\"chat_history\",\n",
    "        output_messages_key=\"answer\",\n",
    "    )\n",
    "    response = conversational_rag_chain.invoke(\n",
    "        {\"input\": promptQuestion},\n",
    "        config={\n",
    "            \"configurable\": {\"session_id\": session_id}\n",
    "        },  # constructs a key \"abc123\" in `store`.\n",
    "    )\n",
    "\n",
    "    return response['answer'] "
   ]
  },
  {
   "cell_type": "code",
   "execution_count": 8,
   "metadata": {},
   "outputs": [
    {
     "data": {
      "text/plain": [
       "Document(metadata={'source': 'C:\\\\Users\\\\elfo\\\\Documents\\\\Capstone\\\\ChatBots_NICU_JSON_SUMMARY\\\\Adolf_Data.json', 'seq_num': 1, 'start_index': 0}, page_content='{\"patient_id\": \"Adolf\", \"data\": [{\"timestamp\": \"2024-11-07 20:38:37\", \"vital_signs\": {\"heart_rate\": 124, \"respiratory_rate\": 64, \"body_temperature\": 37.3}, \"intervention\": null, \"pain_level\": \"Low\"}, {\"timestamp\": \"2024-11-07 20:43:37\", \"vital_signs\": {\"heart_rate\": 138, \"respiratory_rate\": 75, \"body_temperature\": 37.1}, \"intervention\": null, \"pain_level\": \"Low\"}, {\"timestamp\": \"2024-11-07 20:48:37\", \"vital_signs\": {\"heart_rate\": 134, \"respiratory_rate\": 62, \"body_temperature\": 36.7}, \"intervention\": {\"type\": \"feeding\", \"detail\": \"30 ml formula\"}, \"pain_level\": \"Low\"}, {\"timestamp\": \"2024-11-07 20:53:37\", \"vital_signs\": {\"heart_rate\": 128, \"respiratory_rate\": 68, \"body_temperature\": 37.3}, \"intervention\": null, \"pain_level\": \"Low\"}, {\"timestamp\": \"2024-11-07 20:58:37\", \"vital_signs\": {\"heart_rate\": 102, \"respiratory_rate\": 94, \"body_temperature\": 36.6}, \"intervention\": null, \"pain_level\": \"Low\"}, {\"timestamp\": \"2024-11-07 21:03:37\", \"vital_signs\": {\"heart_rate\": 128,')"
      ]
     },
     "execution_count": 8,
     "metadata": {},
     "output_type": "execute_result"
    }
   ],
   "source": [
    "parentChatbotSummarize('Adolf_Data.json','TestTest','How hasmy child been?')"
   ]
  }
 ],
 "metadata": {
  "kernelspec": {
   "display_name": "Python 3",
   "language": "python",
   "name": "python3"
  },
  "language_info": {
   "codemirror_mode": {
    "name": "ipython",
    "version": 3
   },
   "file_extension": ".py",
   "mimetype": "text/x-python",
   "name": "python",
   "nbconvert_exporter": "python",
   "pygments_lexer": "ipython3",
   "version": "3.12.1"
  }
 },
 "nbformat": 4,
 "nbformat_minor": 2
}
