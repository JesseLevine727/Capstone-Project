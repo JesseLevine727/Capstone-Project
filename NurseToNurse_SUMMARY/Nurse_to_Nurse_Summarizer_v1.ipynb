{
 "cells": [
  {
   "cell_type": "code",
   "execution_count": 1,
   "metadata": {},
   "outputs": [],
   "source": [
    "from langchain_openai import ChatOpenAI\n",
    "from langchain_community.document_loaders import JSONLoader\n",
    "from langchain_text_splitters import RecursiveCharacterTextSplitter\n",
    "from langchain_openai import OpenAIEmbeddings\n",
    "from langchain_chroma import Chroma\n",
    "from langchain_core.prompts import PromptTemplate\n",
    "from langchain_core.runnables import RunnablePassthrough\n",
    "from langchain_core.output_parsers import StrOutputParser"
   ]
  },
  {
   "cell_type": "code",
   "execution_count": 2,
   "metadata": {},
   "outputs": [
    {
     "data": {
      "text/plain": [
       "True"
      ]
     },
     "execution_count": 2,
     "metadata": {},
     "output_type": "execute_result"
    }
   ],
   "source": [
    "from dotenv import load_dotenv\n",
    "load_dotenv()"
   ]
  },
  {
   "cell_type": "code",
   "execution_count": 3,
   "metadata": {},
   "outputs": [],
   "source": [
    "def format_docs(docs):\n",
    "    return \"\\n\\n\".join(doc.page_content for doc in docs)"
   ]
  },
  {
   "cell_type": "code",
   "execution_count": null,
   "metadata": {},
   "outputs": [],
   "source": [
    "def Nurse_2_Nurse_Summarization_v1(filepath: str):\n",
    "\n",
    "    llm = ChatOpenAI(model = 'gpt-4o')\n",
    "    \n",
    "    loader = JSONLoader(file_path=filepath, jq_schema='.', text_content=False)\n",
    "    docs  = loader.load()\n",
    "\n",
    "    text_splitter = RecursiveCharacterTextSplitter(chunk_size = 10000, chunk_overlap = 1000, add_start_index = True)\n",
    "    all_splits = text_splitter.split_documents(docs)\n",
    "\n",
    "    embed = OpenAIEmbeddings(show_progress_bar=True, request_timeout= 10000)\n",
    "\n",
    "    vectorstore = Chroma.from_documents(documents=all_splits, embedding=embed, persist_directory= './gurshan_3_db')\n",
    "    retriever = vectorstore.as_retriever(search_type=\"similarity\",search_kwargs={'k': 6})\n",
    "\n",
    "    template = \"\"\"Use the following pieces of context to summarize the data at the end.\n",
    "    If you dont know, just say you dont know. \n",
    "    Pretend you are a health care worker at the ned of your shift. \n",
    "    Now is the time for patient handover. Explain and summarize to the next nurse the status of the patient described in the JSON file.\n",
    "    In the case of irregular vital sign fluctuations, flag it and mention it \n",
    "\n",
    "    Always say \"The End!\", in a new line at the end of the answer.\n",
    "\n",
    "    {context}\n",
    "\n",
    "    Question: {question}\n",
    "\n",
    "    Helpful Answer:\"\"\"\n",
    "    custom_rag_prompt = PromptTemplate.from_template(template)\n",
    "    rag_chain = ({\"context\": retriever | format_docs, \"question\": RunnablePassthrough()} | custom_rag_prompt | llm | StrOutputParser())\n",
    "    response = rag_chain.invoke(\"Summarize\")\n",
    "\n",
    "    return response\n",
    "\n",
    "    "
   ]
  },
  {
   "cell_type": "code",
   "execution_count": 5,
   "metadata": {},
   "outputs": [
    {
     "data": {
      "application/vnd.jupyter.widget-view+json": {
       "model_id": "4241e9370cdc4ac795b5758eeca3a931",
       "version_major": 2,
       "version_minor": 0
      },
      "text/plain": [
       "  0%|          | 0/1 [00:00<?, ?it/s]"
      ]
     },
     "metadata": {},
     "output_type": "display_data"
    },
    {
     "data": {
      "application/vnd.jupyter.widget-view+json": {
       "model_id": "502b62db3f374007aa503f075fa5c526",
       "version_major": 2,
       "version_minor": 0
      },
      "text/plain": [
       "  0%|          | 0/1 [00:00<?, ?it/s]"
      ]
     },
     "metadata": {},
     "output_type": "display_data"
    },
    {
     "data": {
      "text/plain": [
       "\"The patient has experienced several fluctuations in vital signs throughout the shift, with notable irregularities in heart rate and respiratory rate. The heart rate has ranged from 130 to 158 bpm, and the respiratory rate has varied from 34 to 47 breaths per minute. The patient's skin tone has alternated between normal, red, blueish, pink, and yellow-jaundice, indicating potential underlying issues. There have been multiple interventions, including lighting adjustments, oxygen administration, feeding, diaper changes, medication, and position changes, to address varying pain levels ranging from low to extreme.\\n\\nSignificant irregularities include periods of elevated heart rate and respiratory rate, particularly when the skin tone was blueish or red, suggesting respiratory distress or inadequate oxygenation at times. Pain levels have also fluctuated significantly, affecting the patient's comfort and requiring frequent analgesic and antibiotic administration.\\n\\nThe patient requires close monitoring of vital signs and continuous assessment of interventions to ensure stability. There is a need for vigilant attention to pain management and respiratory support, given the frequent changes in skin tone and oxygen saturation levels.\\n\\nThe End!\""
      ]
     },
     "execution_count": 5,
     "metadata": {},
     "output_type": "execute_result"
    }
   ],
   "source": [
    "Nurse_2_Nurse_Summarization_v1('Gurshan_Data.json')"
   ]
  }
 ],
 "metadata": {
  "kernelspec": {
   "display_name": "Python 3",
   "language": "python",
   "name": "python3"
  },
  "language_info": {
   "codemirror_mode": {
    "name": "ipython",
    "version": 3
   },
   "file_extension": ".py",
   "mimetype": "text/x-python",
   "name": "python",
   "nbconvert_exporter": "python",
   "pygments_lexer": "ipython3",
   "version": "3.12.1"
  }
 },
 "nbformat": 4,
 "nbformat_minor": 2
}
