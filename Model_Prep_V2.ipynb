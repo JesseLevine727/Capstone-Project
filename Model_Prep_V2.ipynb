{
 "cells": [
  {
   "cell_type": "code",
   "execution_count": 1,
   "metadata": {},
   "outputs": [],
   "source": [
    "import wfdb\n",
    "import numpy as np\n",
    "import pandas as pd"
   ]
  },
  {
   "cell_type": "code",
   "execution_count": 2,
   "metadata": {},
   "outputs": [],
   "source": [
    "#First 5 hours\n",
    "\n",
    "subset_ranges = {\n",
    "    1: {'ecg': (0, int(4.5e6)), 'resp': (int(0), int(9e6))},\n",
    "    2: {'ecg': (int(0), int(9e6)), 'resp': (int(0), int(0.9e6))},\n",
    "    3: {'ecg': (int(0), int(9e6)), 'resp': (int(0), int(0.9e6))},\n",
    "    4: {'ecg': (int(0), int(9e6)), 'resp': (int(0), int(0.9e6))},\n",
    "    5: {'ecg': (int(0), int(4.5e6)), 'resp': (int(0), int(0.9e6))},\n",
    "    6: {'ecg': (int(0), int(9e6)), 'resp': (int(0), int(0.9e6))},\n",
    "    7: {'ecg': (int(0), int(9e6)), 'resp': (int(0), int(0.9e6))},\n",
    "    8: {'ecg': (int(0), int(9e6)), 'resp': (int(0), int(0.9e6))},\n",
    "    9: {'ecg': (int(0), int(9e6)), 'resp': (int(0), int(0.9e6))},\n",
    "    10: {'ecg': (int(0), int(9e6)), 'resp': (int(0), int(0.9e6))}\n",
    "}"
   ]
  },
  {
   "cell_type": "code",
   "execution_count": 3,
   "metadata": {},
   "outputs": [],
   "source": [
    "def extract_heart_rate(annotation, start, end):\n",
    "    # Get relevant portion of R-peaks\n",
    "    r_peaks = annotation.sample[(annotation.sample >= start) & (annotation.sample <= end)]\n",
    "    rr_intervals = np.diff(r_peaks) / annotation.fs  # Convert sample differences to seconds using sampling rate from annotation\n",
    "    heart_rate = 60 / rr_intervals  # HR in beats per minute (bpm)\n",
    "    return r_peaks[1:], heart_rate\n",
    "\n",
    "def extract_respiration_rate(annotation, start, end):\n",
    "    # Get relevant portion of respiration peaks\n",
    "    resp_peaks = annotation.sample[(annotation.sample >= start) & (annotation.sample <= end)]\n",
    "    resp_intervals = np.diff(resp_peaks) / annotation.fs  # Convert sample differences to seconds using sampling rate from annotation\n",
    "    respiration_rate = 60 / resp_intervals  # RR in breaths per minute\n",
    "    return resp_peaks[1:], respiration_rate\n",
    "\n",
    "\n",
    "def process_infant_subset(infant_number, subset_ranges):\n",
    "    # Get the specific ranges for this infant\n",
    "    ranges = subset_ranges[infant_number]\n",
    "    ecg_range = ranges['ecg']\n",
    "    resp_range = ranges['resp']\n",
    "\n",
    "    # Load ECG signal and respiration signal\n",
    "    ecg_record = wfdb.rdrecord(f'infant{infant_number}_ecg', sampfrom=ecg_range[0], sampto=ecg_range[1])\n",
    "    resp_record = wfdb.rdrecord(f'infant{infant_number}_resp', sampfrom=resp_range[0], sampto=resp_range[1])\n",
    "\n",
    "    # Load R-peak annotations to derive HR\n",
    "    r_peak_annotations = wfdb.rdann(f'infant{infant_number}_ecg', 'qrsc')\n",
    "    r_times, heart_rates = extract_heart_rate(r_peak_annotations, ecg_range[0], ecg_range[1])\n",
    "\n",
    "    # Load respiration peak annotations to derive RR\n",
    "    resp_peak_annotations = wfdb.rdann(f'infant{infant_number}_resp', 'resp')\n",
    "    resp_times, respiration_rates = extract_respiration_rate(resp_peak_annotations, resp_range[0], resp_range[1])\n",
    "\n",
    "    # Truncate or pad respiration peaks and rates to match heart rate length\n",
    "    if len(resp_times) > len(heart_rates):\n",
    "        resp_times = resp_times[:len(heart_rates)]\n",
    "        respiration_rates = respiration_rates[:len(heart_rates)]\n",
    "    else:\n",
    "        median_resp_peak = np.median(resp_times) if len(resp_times) > 0 else 0\n",
    "        resp_times = np.pad(resp_times, (0, len(heart_rates) - len(resp_times)), 'constant', constant_values=median_resp_peak)\n",
    "        median_resp_rate = np.median(respiration_rates) if len(respiration_rates) > 0 else 0\n",
    "        respiration_rates = np.pad(respiration_rates, (0, len(heart_rates) - len(respiration_rates)), 'constant', constant_values=median_resp_rate)\n",
    "\n",
    "    # Create a DataFrame to store features\n",
    "    data = pd.DataFrame({\n",
    "        'time_r_peak': r_times / ecg_record.fs,\n",
    "        'heart_rate': heart_rates,\n",
    "        'respiration_peak_time': resp_times / resp_record.fs,\n",
    "        'respiration_rate': respiration_rates,\n",
    "    })\n",
    "\n",
    "    return data\n",
    "\n",
    "\n",
    "\n"
   ]
  },
  {
   "cell_type": "code",
   "execution_count": 4,
   "metadata": {},
   "outputs": [],
   "source": [
    "all_infants_subset_data = pd.DataFrame()\n",
    "\n",
    "for i in range(1, 11):  # Assuming 10 infants numbered from 1 to 10\n",
    "    infant_subset_data = process_infant_subset(i, subset_ranges)\n",
    "    infant_subset_data['infant_number'] = i  # Add a column to identify the infant\n",
    "    all_infants_subset_data = pd.concat([all_infants_subset_data, infant_subset_data], ignore_index=True)\n",
    "\n",
    "# Save the unified subset dataset to CSV for future use\n",
    "all_infants_subset_data.to_csv('all_infants_5h_subset_vital_signs.csv', index=False)\n"
   ]
  },
  {
   "cell_type": "code",
   "execution_count": null,
   "metadata": {},
   "outputs": [],
   "source": []
  }
 ],
 "metadata": {
  "kernelspec": {
   "display_name": "Python 3",
   "language": "python",
   "name": "python3"
  },
  "language_info": {
   "codemirror_mode": {
    "name": "ipython",
    "version": 3
   },
   "file_extension": ".py",
   "mimetype": "text/x-python",
   "name": "python",
   "nbconvert_exporter": "python",
   "pygments_lexer": "ipython3",
   "version": "3.12.1"
  }
 },
 "nbformat": 4,
 "nbformat_minor": 2
}
