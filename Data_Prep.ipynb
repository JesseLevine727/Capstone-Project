{
 "cells": [
  {
   "cell_type": "code",
   "execution_count": 38,
   "metadata": {},
   "outputs": [],
   "source": [
    "import wfdb\n",
    "import numpy as np\n",
    "import pandas as pd"
   ]
  },
  {
   "cell_type": "code",
   "execution_count": 39,
   "metadata": {},
   "outputs": [],
   "source": [
    "def heart_rate(annotation):\n",
    "    r_peaks = annotation.sample\n",
    "    rr_intervals = np.diff(r_peaks) / annotation.fs\n",
    "\n",
    "    heart_rate = 60 /rr_intervals\n",
    "    return r_peaks[1:], heart_rate\n",
    "\n",
    "def respiration_rate(annotation):\n",
    "    resp_peaks = annotation.sample\n",
    "    resp_intervals = np.diff(resp_peaks) / annotation.fs\n",
    "\n",
    "    respiration_rate = 60 / resp_intervals\n",
    "    return resp_peaks[1:], respiration_rate\n",
    "\n",
    "\n",
    "def process_infant_data(infant_num):\n",
    "    ecg_record = wfdb.rdrecord(f'infant{infant_num}_ecg')\n",
    "    sampling_rate_ecg = ecg_record.fs\n",
    "    ecg_signal = ecg_record.p_signal\n",
    "\n",
    "    resp_record = wfdb.rdrecord(f'infant{infant_num}_resp')\n",
    "    sampling_rate_resp = resp_record.fs\n",
    "    resp_signal = resp_record.p_signal\n",
    "\n",
    "    r_peak_annotations = wfdb.rdann(f'infant{infant_num}_ecg', 'qrsc')\n",
    "    r_times, heart_rates = heart_rate(r_peak_annotations)\n",
    "\n",
    "    resp_peak_annotations = wfdb.rdann(f'infant{infant_num}_resp', 'resp')\n",
    "    resp_times, respiration_rates = respiration_rate(resp_peak_annotations)\n",
    "\n",
    "    # Truncate or pad respiration peaks to match heart rate length\n",
    "    if len(resp_times) > len(heart_rates):\n",
    "        resp_times = resp_times[:len(heart_rates)]\n",
    "        respiration_rates = respiration_rates[:len(heart_rates)]\n",
    "    else:\n",
    "        avg_resp_peak = np.mean(resp_times) if len(resp_times) > 0 else 0\n",
    "        resp_times = np.pad(resp_times, (0, len(heart_rates) - len(resp_times)), 'constant', constant_values=avg_resp_peak)\n",
    "        avg_resp_rate = np.mean(respiration_rates) if len(respiration_rates) > 0 else 0\n",
    "        respiration_rates = np.pad(respiration_rates, (0, len(heart_rates) - len(respiration_rates)), 'constant', constant_values=avg_resp_rate)\n",
    "\n",
    "    data = pd.DataFrame({\n",
    "        'time_r_peak(s)': r_times/ecg_record.fs,\n",
    "        'heart_rate (BPM)': heart_rates,\n",
    "        'respiration_peak_time(s)': resp_times/ resp_record.fs,\n",
    "        'respiration_rate (BrPM)': respiration_rates\n",
    "    })\n",
    "\n",
    "    return data"
   ]
  },
  {
   "cell_type": "code",
   "execution_count": 40,
   "metadata": {},
   "outputs": [],
   "source": [
    "all_infants_data = pd.DataFrame()\n",
    "\n",
    "for i in range(1,11):\n",
    "    infant_data = process_infant_data(i)\n",
    "    infant_data['infant_num'] = i\n",
    "    all_infants_data = pd.concat([all_infants_data, infant_data], ignore_index=True)"
   ]
  },
  {
   "cell_type": "code",
   "execution_count": 41,
   "metadata": {},
   "outputs": [],
   "source": [
    "all_infants_data.to_csv('all_infants_vital_signs.csv', index=False)"
   ]
  }
 ],
 "metadata": {
  "kernelspec": {
   "display_name": "Python 3",
   "language": "python",
   "name": "python3"
  },
  "language_info": {
   "codemirror_mode": {
    "name": "ipython",
    "version": 3
   },
   "file_extension": ".py",
   "mimetype": "text/x-python",
   "name": "python",
   "nbconvert_exporter": "python",
   "pygments_lexer": "ipython3",
   "version": "3.12.1"
  }
 },
 "nbformat": 4,
 "nbformat_minor": 2
}
