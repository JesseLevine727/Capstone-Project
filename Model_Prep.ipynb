{
 "cells": [
  {
   "cell_type": "code",
   "execution_count": 2,
   "metadata": {},
   "outputs": [],
   "source": [
    "import numpy as np\n",
    "import pandas as pd\n",
    "from sklearn.model_selection import train_test_split"
   ]
  },
  {
   "cell_type": "code",
   "execution_count": 3,
   "metadata": {},
   "outputs": [],
   "source": [
    "data = pd.read_csv('all_infants_vital_signs.csv')"
   ]
  },
  {
   "cell_type": "code",
   "execution_count": 4,
   "metadata": {},
   "outputs": [],
   "source": [
    "#sliding window for input_output pairs\n",
    "\n",
    "window_size = 4500 #roughly 30 minutes for each infant\n",
    "step_size = 750 #step size of about 5 minutes between consecutive windows \n",
    "\n",
    "X = []\n",
    "y = []"
   ]
  },
  {
   "cell_type": "code",
   "execution_count": 6,
   "metadata": {},
   "outputs": [],
   "source": [
    "for infant_id in data['infant_num'].unique():\n",
    "    infant_data = data[data['infant_num'] == infant_id]\n",
    "    for i in range(0,len(infant_data) - window_size,step_size):\n",
    "        X_window = infant_data.iloc[i:i + window_size].values\n",
    "        y_window = infant_data.iloc[i + window_size][['heart_rate (BPM)', 'respiration_rate (BrPM)']].values\n",
    "        X.append(X_window)\n",
    "        y.append(y_window)\n",
    "\n",
    "X = np.array(X)\n",
    "y = np.array(y)\n"
   ]
  },
  {
   "cell_type": "code",
   "execution_count": 7,
   "metadata": {},
   "outputs": [],
   "source": [
    "X_train, X_temp, y_train, y_temp = train_test_split(X, y, test_size = 0.4, random_state=69)\n",
    "X_val, X_test, y_val, y_test = train_test_split(X_temp, y_temp, test_size=0.5, random_state=69)"
   ]
  },
  {
   "cell_type": "code",
   "execution_count": 8,
   "metadata": {},
   "outputs": [
    {
     "name": "stdout",
     "output_type": "stream",
     "text": [
      "Training Input shape: (6009, 4500, 5)\n",
      "Training Output shape: (6009, 2)\n",
      "Validation Input shape: (2003, 4500, 5)\n",
      "Validation Output shape: (2003, 2)\n",
      "Testing Input shape: (2004, 4500, 5)\n",
      "Testing Output shape: (2004, 2)\n"
     ]
    }
   ],
   "source": [
    "print(f\"Training Input shape: {X_train.shape}\")  #number of windows, window sizem number of features\n",
    "print(f\"Training Output shape: {y_train.shape}\") # number of windows, number of targets\n",
    "print(f\"Validation Input shape: {X_val.shape}\")  \n",
    "print(f\"Validation Output shape: {y_val.shape}\") \n",
    "print(f\"Testing Input shape: {X_test.shape}\")  \n",
    "print(f\"Testing Output shape: {y_test.shape}\") "
   ]
  },
  {
   "cell_type": "code",
   "execution_count": 9,
   "metadata": {},
   "outputs": [],
   "source": [
    "np.save('X_train.npy', X_train)\n",
    "np.save('y_train.npy', y_train)\n",
    "np.save('X_val.npy', X_val)\n",
    "np.save('y_val.npy', y_val)\n",
    "np.save('X_test.npy', X_test)\n",
    "np.save('y_test.npy', y_test)\n"
   ]
  }
 ],
 "metadata": {
  "kernelspec": {
   "display_name": "Python 3",
   "language": "python",
   "name": "python3"
  },
  "language_info": {
   "codemirror_mode": {
    "name": "ipython",
    "version": 3
   },
   "file_extension": ".py",
   "mimetype": "text/x-python",
   "name": "python",
   "nbconvert_exporter": "python",
   "pygments_lexer": "ipython3",
   "version": "3.12.1"
  }
 },
 "nbformat": 4,
 "nbformat_minor": 2
}
